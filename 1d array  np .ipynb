{
 "cells": [
  {
   "cell_type": "code",
   "execution_count": 10,
   "id": "06b6ddd1-dd0c-43f6-897e-79019c9c8b9c",
   "metadata": {},
   "outputs": [
    {
     "name": "stdout",
     "output_type": "stream",
     "text": [
      "Adding 1 : [2 3 6 4]\n",
      "sub 3: [-2 -1  2  0]\n",
      "multiply by 10: [10 20 50 30]\n",
      "squaring each element: [ 1  4 25  9]\n",
      "Doubled element of array: [ 2  4 10  6]\n",
      "/n original array: [[1 2 3]\n",
      " [3 4 5]\n",
      " [9 6 0]]\n",
      "transpose array: [[1 3 9]\n",
      " [2 4 6]\n",
      " [3 5 0]]\n"
     ]
    }
   ],
   "source": [
    "import numpy as np\n",
    "a=np.array([1,2,5,3])\n",
    "print(\"Adding 1 :\",a+1)\n",
    "print(\"sub 3:\",a-3)\n",
    "print(\"multiply by 10:\",a*10)\n",
    "print(\"squaring each element:\",a**2)\n",
    "print(\"Doubled element of array:\",a*2)\n",
    "a=np.array([[1,2,3],[3,4,5],[9,6,0]])\n",
    "print(\"/n original array:\",a)\n",
    "print(\"transpose array:\",a.T)"
   ]
  },
  {
   "cell_type": "code",
   "execution_count": null,
   "id": "e8845907-eba1-43fe-a9e2-215e0c3cff21",
   "metadata": {},
   "outputs": [],
   "source": []
  },
  {
   "cell_type": "code",
   "execution_count": null,
   "id": "d65311bd-a80a-48ab-a9a3-a74d7b0f6d4d",
   "metadata": {},
   "outputs": [],
   "source": []
  }
 ],
 "metadata": {
  "kernelspec": {
   "display_name": "Python 3 (ipykernel)",
   "language": "python",
   "name": "python3"
  },
  "language_info": {
   "codemirror_mode": {
    "name": "ipython",
    "version": 3
   },
   "file_extension": ".py",
   "mimetype": "text/x-python",
   "name": "python",
   "nbconvert_exporter": "python",
   "pygments_lexer": "ipython3",
   "version": "3.12.4"
  }
 },
 "nbformat": 4,
 "nbformat_minor": 5
}
