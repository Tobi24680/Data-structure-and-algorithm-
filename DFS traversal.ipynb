{
 "cells": [
  {
   "cell_type": "code",
   "execution_count": 3,
   "id": "1d9b8042-73e9-49fc-b5df-00a9e8bf0e0f",
   "metadata": {},
   "outputs": [
    {
     "name": "stdin",
     "output_type": "stream",
     "text": [
      "Enter a newnode(or'done'to finish): a\n",
      "Enter the neighbors of a(comma-separated): b,c\n",
      "Enter a newnode(or'done'to finish): b\n",
      "Enter the neighbors of b(comma-separated): d,e\n",
      "Enter a newnode(or'done'to finish): c\n",
      "Enter the neighbors of c(comma-separated): f\n",
      "Enter a newnode(or'done'to finish): d\n",
      "Enter the neighbors of d(comma-separated): \n",
      "Enter a newnode(or'done'to finish): e\n",
      "Enter the neighbors of e(comma-separated): \n",
      "Enter a newnode(or'done'to finish): f\n",
      "Enter the neighbors of f(comma-separated): \n",
      "Enter a newnode(or'done'to finish): done\n",
      "Enter the starting node for DFS: a\n"
     ]
    },
    {
     "name": "stdout",
     "output_type": "stream",
     "text": [
      "DFS Traversal starting from node a :\n",
      "abdecf"
     ]
    }
   ],
   "source": [
    " def dfs(graph,start,visited=None):\n",
    "     if visited is None:\n",
    "         visited=set()\n",
    "     visited.add(start)\n",
    "     print(start,end='')\n",
    "     for neighbor in graph.get(start,[]):\n",
    "         if neighbor not in visited:\n",
    "             dfs(graph,neighbor,visited)\n",
    "     return visited\n",
    " def create_graph_from_input():\n",
    "     graph={}\n",
    "     while True:\n",
    "         node=input(\"Enter a newnode(or'done'to finish):\").strip()\n",
    "         if node.lower()=='done':\n",
    "             break\n",
    "         if not node:\n",
    "             print(\"Node cannot be empty.enter a valid node.\")\n",
    "             continue\n",
    "         neighbors_input=input(f\"Enter the neighbors of {node}(comma-separated):\").strip()\n",
    "         if neighbors_input:\n",
    "          neighbors=[neighbor.strip() for neighbor in neighbors_input.split(',')]\n",
    "         else:\n",
    "            neighbors=[]\n",
    "         graph[node]=neighbors\n",
    "     return graph\n",
    "if __name__==\"__main__\":\n",
    "    graph=create_graph_from_input()\n",
    "    start_node=input(\"Enter the starting node for DFS:\").strip()\n",
    "    if start_node in graph:\n",
    "        print(\"DFS Traversal starting from node\",start_node,\":\")\n",
    "        dfs(graph,start_node)\n",
    "    else:\n",
    "        print(f\"Starting node'{start_node}'is not in the graph.\")"
   ]
  },
  {
   "cell_type": "code",
   "execution_count": null,
   "id": "33a4d61e-d78a-4ddd-9f8c-9b061ebd96e2",
   "metadata": {},
   "outputs": [],
   "source": []
  }
 ],
 "metadata": {
  "kernelspec": {
   "display_name": "Python 3 (ipykernel)",
   "language": "python",
   "name": "python3"
  },
  "language_info": {
   "codemirror_mode": {
    "name": "ipython",
    "version": 3
   },
   "file_extension": ".py",
   "mimetype": "text/x-python",
   "name": "python",
   "nbconvert_exporter": "python",
   "pygments_lexer": "ipython3",
   "version": "3.12.4"
  }
 },
 "nbformat": 4,
 "nbformat_minor": 5
}
