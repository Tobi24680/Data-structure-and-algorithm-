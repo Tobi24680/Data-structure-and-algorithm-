{
 "cells": [
  {
   "cell_type": "code",
   "execution_count": 13,
   "id": "a1847e48-e308-40c4-9e1d-095053f02cb5",
   "metadata": {},
   "outputs": [
    {
     "name": "stdin",
     "output_type": "stream",
     "text": [
      "Enter a node (or 'done'to finish): a\n",
      "Enter the neighbors of a(comma-separated): b,c\n",
      "Enter a node (or 'done'to finish): b\n",
      "Enter the neighbors of b(comma-separated): d,e\n",
      "Enter a node (or 'done'to finish): c\n",
      "Enter the neighbors of c(comma-separated): f\n",
      "Enter a node (or 'done'to finish): d\n",
      "Enter the neighbors of d(comma-separated): \n",
      "Enter a node (or 'done'to finish): e\n",
      "Enter the neighbors of e(comma-separated): \n",
      "Enter a node (or 'done'to finish): f\n",
      "Enter the neighbors of f(comma-separated): \n",
      "Enter a node (or 'done'to finish): done\n",
      "Enter the starting node for  BFS: a\n"
     ]
    },
    {
     "name": "stdout",
     "output_type": "stream",
     "text": [
      "BFS traversal starting from node a :\n",
      "['a', 'b', 'c', 'd', 'e', 'f']\n"
     ]
    }
   ],
   "source": [
    "from collections import deque\n",
    "def bfs(graph,start):\n",
    "    visited=set()\n",
    "    queue=deque([start])\n",
    "    result=[]\n",
    "    while queue:\n",
    "        vertex=queue.popleft()\n",
    "        if vertex not in visited:\n",
    "            visited.add(vertex)\n",
    "            result.append(vertex)\n",
    "            queue.extend(neighbor for neighbor in graph[vertex] if neighbor not in visited)\n",
    "    return result\n",
    "def create_graph_from_input():\n",
    "    graph={}\n",
    "    while True:\n",
    "        node=input(\"Enter a node (or 'done'to finish):\").strip()\n",
    "        if node.lower()=='done':\n",
    "            \n",
    "            break\n",
    "        if not node:\n",
    "            print(\"Node cannot be empty.please enter a valid node:\")\n",
    "            continue\n",
    "        neighbors_input=input(f\"Enter the neighbors of {node}(comma-separated):\").strip()\n",
    "        if neighbors_input:\n",
    "            neighbors=[neighbor.strip() for neighbor in neighbors_input.split(',')]\n",
    "        else:\n",
    "            neighbors=[]\n",
    "        graph[node]=neighbors\n",
    "    return graph\n",
    "if __name__==\"__main__\":\n",
    "    graph=create_graph_from_input()\n",
    "    start_node=input(\"Enter the starting node for  BFS:\").strip()\n",
    "    if start_node in graph:\n",
    "        print(\"BFS traversal starting from node\",start_node,\":\")\n",
    "        print(bfs(graph,start_node))\n",
    "    else:\n",
    "        print(f\"Starting Node '{start_node}' is not in the graph.\")"
   ]
  },
  {
   "cell_type": "code",
   "execution_count": null,
   "id": "c86a3e9e-19f5-4e8e-b481-95ad4b4c196a",
   "metadata": {},
   "outputs": [],
   "source": []
  }
 ],
 "metadata": {
  "kernelspec": {
   "display_name": "Python 3 (ipykernel)",
   "language": "python",
   "name": "python3"
  },
  "language_info": {
   "codemirror_mode": {
    "name": "ipython",
    "version": 3
   },
   "file_extension": ".py",
   "mimetype": "text/x-python",
   "name": "python",
   "nbconvert_exporter": "python",
   "pygments_lexer": "ipython3",
   "version": "3.12.4"
  }
 },
 "nbformat": 4,
 "nbformat_minor": 5
}
